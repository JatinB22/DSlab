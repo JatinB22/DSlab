{
  "cells": [
    {
      "cell_type": "markdown",
      "metadata": {
        "id": "view-in-github",
        "colab_type": "text"
      },
      "source": [
        "<a href=\"https://colab.research.google.com/github/JatinB22/DSlab/blob/main/DS_exp_5/DS_exp_5.ipynb\" target=\"_parent\"><img src=\"https://colab.research.google.com/assets/colab-badge.svg\" alt=\"Open In Colab\"/></a>"
      ]
    },
    {
      "cell_type": "markdown",
      "metadata": {
        "id": "-tC6wEceprUH"
      },
      "source": [
        "<h2 style='color:blue' align=\"center\">Logistic Regression: Multiclass Classification</h2>"
      ]
    },
    {
      "cell_type": "markdown",
      "metadata": {
        "id": "gMaZGKtRprUJ"
      },
      "source": [
        "In this tutorial we will see how to use logistic regression for multiclass classification."
      ]
    },
    {
      "cell_type": "markdown",
      "source": [
        "![image.png](data:image/png;base64,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)"
      ],
      "metadata": {
        "id": "dnRDTMe3sxAE"
      }
    },
    {
      "cell_type": "code",
      "execution_count": 1,
      "metadata": {
        "collapsed": true,
        "id": "WEzIkpkUprUK"
      },
      "outputs": [],
      "source": [
        "from sklearn.datasets import load_digits\n",
        "%matplotlib inline\n",
        "import matplotlib.pyplot as plt\n",
        "digits = load_digits()"
      ]
    },
    {
      "cell_type": "code",
      "execution_count": 17,
      "metadata": {
        "colab": {
          "base_uri": "https://localhost:8080/",
          "height": 472
        },
        "id": "y_C4l5ApprUL",
        "outputId": "c71db6ff-6868-4e49-e6b7-243765aab17a"
      },
      "outputs": [
        {
          "output_type": "execute_result",
          "data": {
            "text/plain": [
              "<matplotlib.image.AxesImage at 0x7e1467e02f30>"
            ]
          },
          "metadata": {},
          "execution_count": 17
        },
        {
          "output_type": "display_data",
          "data": {
            "text/plain": [
              "<Figure size 640x480 with 0 Axes>"
            ]
          },
          "metadata": {}
        },
        {
          "output_type": "display_data",
          "data": {
            "text/plain": [
              "<Figure size 480x480 with 1 Axes>"
            ],
            "image/png": "[encoded data removed]"
          },
          "metadata": {}
        }
      ],
      "source": [
        "plt.gray()\n",
        "#for i in range(5):\n",
        "plt.matshow(digits.images[0])"
      ]
    },
    {
      "cell_type": "markdown",
      "source": [
        "**digits.data**\tA 2D array of shape (n_samples, n_features) — the flattened pixel values (64 features for 8x8 images).<br>\n",
        "***digits.target\t***The actual digit labels (0 to 9) for each image (used as class labels).<br>\n",
        "***digits.images***\tA 3D array of shape (n_samples, 8, 8) — the original 8x8 grayscale images.<br>\n",
        "***digits.target_names***\tAn array: [0, 1, 2, ..., 9] — class names (digits)."
      ],
      "metadata": {
        "id": "ANp1Eo_-t8Zk"
      }
    },
    {
      "cell_type": "code",
      "execution_count": 3,
      "metadata": {
        "colab": {
          "base_uri": "https://localhost:8080/"
        },
        "id": "pN12AgYKprUM",
        "outputId": "90cb5eea-0fd9-45d5-c4d2-d9b6027094ac"
      },
      "outputs": [
        {
          "output_type": "execute_result",
          "data": {
            "text/plain": [
              "['DESCR', 'data', 'feature_names', 'frame', 'images', 'target', 'target_names']"
            ]
          },
          "metadata": {},
          "execution_count": 3
        }
      ],
      "source": [
        "dir(digits)"
      ]
    },
    {
      "cell_type": "code",
      "execution_count": 4,
      "metadata": {
        "colab": {
          "base_uri": "https://localhost:8080/"
        },
        "id": "WWwXnYNsprUM",
        "outputId": "90b7d2d1-4a39-4155-d63a-8d636398f2de"
      },
      "outputs": [
        {
          "output_type": "execute_result",
          "data": {
            "text/plain": [
              "array([ 0.,  0.,  5., 13.,  9.,  1.,  0.,  0.,  0.,  0., 13., 15., 10.,\n",
              "       15.,  5.,  0.,  0.,  3., 15.,  2.,  0., 11.,  8.,  0.,  0.,  4.,\n",
              "       12.,  0.,  0.,  8.,  8.,  0.,  0.,  5.,  8.,  0.,  0.,  9.,  8.,\n",
              "        0.,  0.,  4., 11.,  0.,  1., 12.,  7.,  0.,  0.,  2., 14.,  5.,\n",
              "       10., 12.,  0.,  0.,  0.,  0.,  6., 13., 10.,  0.,  0.,  0.])"
            ]
          },
          "metadata": {},
          "execution_count": 4
        }
      ],
      "source": [
        "digits.data[0]"
      ]
    },
    {
      "cell_type": "markdown",
      "metadata": {
        "id": "RSxdDKzrprUM"
      },
      "source": [
        "<h4 style='color:purple'>Create and train logistic regression model</h4>"
      ]
    },
    {
      "cell_type": "code",
      "source": [
        "from sklearn.linear_model import LogisticRegression\n",
        "model = LogisticRegression(max_iter=2000)"
      ],
      "metadata": {
        "id": "c4iBV-4ZqymF"
      },
      "execution_count": 5,
      "outputs": []
    },
    {
      "cell_type": "code",
      "execution_count": 6,
      "metadata": {
        "collapsed": true,
        "id": "TG9Q6RedprUN"
      },
      "outputs": [],
      "source": [
        "from sklearn.model_selection import train_test_split"
      ]
    },
    {
      "cell_type": "code",
      "execution_count": 7,
      "metadata": {
        "collapsed": true,
        "id": "UZkKOLyjprUN"
      },
      "outputs": [],
      "source": [
        "X_train, X_test, y_train, y_test = train_test_split(digits.data,digits.target, test_size=0.2)"
      ]
    },
    {
      "cell_type": "code",
      "execution_count": 8,
      "metadata": {
        "colab": {
          "base_uri": "https://localhost:8080/",
          "height": 80
        },
        "id": "FmwFZs2zprUO",
        "outputId": "1295b373-586b-4a8b-f5e9-b26180394463"
      },
      "outputs": [
        {
          "output_type": "execute_result",
          "data": {
            "text/plain": [
              "LogisticRegression(max_iter=2000)"
            ],
            "text/html": [
              "<style>#sk-container-id-1 {\n",
              "  /* Definition of color scheme common for light and dark mode */\n",
              "  --sklearn-color-text: #000;\n",
              "  --sklearn-color-text-muted: #666;\n",
              "  --sklearn-color-line: gray;\n",
              "  /* Definition of color scheme for unfitted estimators */\n",
              "  --sklearn-color-unfitted-level-0: #fff5e6;\n",
              "  --sklearn-color-unfitted-level-1: #f6e4d2;\n",
              "  --sklearn-color-unfitted-level-2: #ffe0b3;\n",
              "  --sklearn-color-unfitted-level-3: chocolate;\n",
              "  /* Definition of color scheme for fitted estimators */\n",
              "  --sklearn-color-fitted-level-0: #f0f8ff;\n",
              "  --sklearn-color-fitted-level-1: #d4ebff;\n",
              "  --sklearn-color-fitted-level-2: #b3dbfd;\n",
              "  --sklearn-color-fitted-level-3: cornflowerblue;\n",
              "\n",
              "  /* Specific color for light theme */\n",
              "  --sklearn-color-text-on-default-background: var(--sg-text-color, var(--theme-code-foreground, var(--jp-content-font-color1, black)));\n",
              "  --sklearn-color-background: var(--sg-background-color, var(--theme-background, var(--jp-layout-color0, white)));\n",
              "  --sklearn-color-border-box: var(--sg-text-color, var(--theme-code-foreground, var(--jp-content-font-color1, black)));\n",
              "  --sklearn-color-icon: #696969;\n",
              "\n",
              "  @media (prefers-color-scheme: dark) {\n",
              "    /* Redefinition of color scheme for dark theme */\n",
              "    --sklearn-color-text-on-default-background: var(--sg-text-color, var(--theme-code-foreground, var(--jp-content-font-color1, white)));\n",
              "    --sklearn-color-background: var(--sg-background-color, var(--theme-background, var(--jp-layout-color0, #111)));\n",
              "    --sklearn-color-border-box: var(--sg-text-color, var(--theme-code-foreground, var(--jp-content-font-color1, white)));\n",
              "    --sklearn-color-icon: #878787;\n",
              "  }\n",
              "}\n",
              "\n",
              "#sk-container-id-1 {\n",
              "  color: var(--sklearn-color-text);\n",
              "}\n",
              "\n",
              "#sk-container-id-1 pre {\n",
              "  padding: 0;\n",
              "}\n",
              "\n",
              "#sk-container-id-1 input.sk-hidden--visually {\n",
              "  border: 0;\n",
              "  clip: rect(1px 1px 1px 1px);\n",
              "  clip: rect(1px, 1px, 1px, 1px);\n",
              "  height: 1px;\n",
              "  margin: -1px;\n",
              "  overflow: hidden;\n",
              "  padding: 0;\n",
              "  position: absolute;\n",
              "  width: 1px;\n",
              "}\n",
              "\n",
              "#sk-container-id-1 div.sk-dashed-wrapped {\n",
              "  border: 1px dashed var(--sklearn-color-line);\n",
              "  margin: 0 0.4em 0.5em 0.4em;\n",
              "  box-sizing: border-box;\n",
              "  padding-bottom: 0.4em;\n",
              "  background-color: var(--sklearn-color-background);\n",
              "}\n",
              "\n",
              "#sk-container-id-1 div.sk-container {\n",
              "  /* jupyter's `normalize.less` sets `[hidden] { display: none; }`\n",
              "     but bootstrap.min.css set `[hidden] { display: none !important; }`\n",
              "     so we also need the `!important` here to be able to override the\n",
              "     default hidden behavior on the sphinx rendered scikit-learn.org.\n",
              "     See: https://github.com/scikit-learn/scikit-learn/issues/21755 */\n",
              "  display: inline-block !important;\n",
              "  position: relative;\n",
              "}\n",
              "\n",
              "#sk-container-id-1 div.sk-text-repr-fallback {\n",
              "  display: none;\n",
              "}\n",
              "\n",
              "div.sk-parallel-item,\n",
              "div.sk-serial,\n",
              "div.sk-item {\n",
              "  /* draw centered vertical line to link estimators */\n",
              "  background-image: linear-gradient(var(--sklearn-color-text-on-default-background), var(--sklearn-color-text-on-default-background));\n",
              "  background-size: 2px 100%;\n",
              "  background-repeat: no-repeat;\n",
              "  background-position: center center;\n",
              "}\n",
              "\n",
              "/* Parallel-specific style estimator block */\n",
              "\n",
              "#sk-container-id-1 div.sk-parallel-item::after {\n",
              "  content: \"\";\n",
              "  width: 100%;\n",
              "  border-bottom: 2px solid var(--sklearn-color-text-on-default-background);\n",
              "  flex-grow: 1;\n",
              "}\n",
              "\n",
              "#sk-container-id-1 div.sk-parallel {\n",
              "  display: flex;\n",
              "  align-items: stretch;\n",
              "  justify-content: center;\n",
              "  background-color: var(--sklearn-color-background);\n",
              "  position: relative;\n",
              "}\n",
              "\n",
              "#sk-container-id-1 div.sk-parallel-item {\n",
              "  display: flex;\n",
              "  flex-direction: column;\n",
              "}\n",
              "\n",
              "#sk-container-id-1 div.sk-parallel-item:first-child::after {\n",
              "  align-self: flex-end;\n",
              "  width: 50%;\n",
              "}\n",
              "\n",
              "#sk-container-id-1 div.sk-parallel-item:last-child::after {\n",
              "  align-self: flex-start;\n",
              "  width: 50%;\n",
              "}\n",
              "\n",
              "#sk-container-id-1 div.sk-parallel-item:only-child::after {\n",
              "  width: 0;\n",
              "}\n",
              "\n",
              "/* Serial-specific style estimator block */\n",
              "\n",
              "#sk-container-id-1 div.sk-serial {\n",
              "  display: flex;\n",
              "  flex-direction: column;\n",
              "  align-items: center;\n",
              "  background-color: var(--sklearn-color-background);\n",
              "  padding-right: 1em;\n",
              "  padding-left: 1em;\n",
              "}\n",
              "\n",
              "\n",
              "/* Toggleable style: style used for estimator/Pipeline/ColumnTransformer box that is\n",
              "clickable and can be expanded/collapsed.\n",
              "- Pipeline and ColumnTransformer use this feature and define the default style\n",
              "- Estimators will overwrite some part of the style using the `sk-estimator` class\n",
              "*/\n",
              "\n",
              "/* Pipeline and ColumnTransformer style (default) */\n",
              "\n",
              "#sk-container-id-1 div.sk-toggleable {\n",
              "  /* Default theme specific background. It is overwritten whether we have a\n",
              "  specific estimator or a Pipeline/ColumnTransformer */\n",
              "  background-color: var(--sklearn-color-background);\n",
              "}\n",
              "\n",
              "/* Toggleable label */\n",
              "#sk-container-id-1 label.sk-toggleable__label {\n",
              "  cursor: pointer;\n",
              "  display: flex;\n",
              "  width: 100%;\n",
              "  margin-bottom: 0;\n",
              "  padding: 0.5em;\n",
              "  box-sizing: border-box;\n",
              "  text-align: center;\n",
              "  align-items: start;\n",
              "  justify-content: space-between;\n",
              "  gap: 0.5em;\n",
              "}\n",
              "\n",
              "#sk-container-id-1 label.sk-toggleable__label .caption {\n",
              "  font-size: 0.6rem;\n",
              "  font-weight: lighter;\n",
              "  color: var(--sklearn-color-text-muted);\n",
              "}\n",
              "\n",
              "#sk-container-id-1 label.sk-toggleable__label-arrow:before {\n",
              "  /* Arrow on the left of the label */\n",
              "  content: \"▸\";\n",
              "  float: left;\n",
              "  margin-right: 0.25em;\n",
              "  color: var(--sklearn-color-icon);\n",
              "}\n",
              "\n",
              "#sk-container-id-1 label.sk-toggleable__label-arrow:hover:before {\n",
              "  color: var(--sklearn-color-text);\n",
              "}\n",
              "\n",
              "/* Toggleable content - dropdown */\n",
              "\n",
              "#sk-container-id-1 div.sk-toggleable__content {\n",
              "  max-height: 0;\n",
              "  max-width: 0;\n",
              "  overflow: hidden;\n",
              "  text-align: left;\n",
              "  /* unfitted */\n",
              "  background-color: var(--sklearn-color-unfitted-level-0);\n",
              "}\n",
              "\n",
              "#sk-container-id-1 div.sk-toggleable__content.fitted {\n",
              "  /* fitted */\n",
              "  background-color: var(--sklearn-color-fitted-level-0);\n",
              "}\n",
              "\n",
              "#sk-container-id-1 div.sk-toggleable__content pre {\n",
              "  margin: 0.2em;\n",
              "  border-radius: 0.25em;\n",
              "  color: var(--sklearn-color-text);\n",
              "  /* unfitted */\n",
              "  background-color: var(--sklearn-color-unfitted-level-0);\n",
              "}\n",
              "\n",
              "#sk-container-id-1 div.sk-toggleable__content.fitted pre {\n",
              "  /* unfitted */\n",
              "  background-color: var(--sklearn-color-fitted-level-0);\n",
              "}\n",
              "\n",
              "#sk-container-id-1 input.sk-toggleable__control:checked~div.sk-toggleable__content {\n",
              "  /* Expand drop-down */\n",
              "  max-height: 200px;\n",
              "  max-width: 100%;\n",
              "  overflow: auto;\n",
              "}\n",
              "\n",
              "#sk-container-id-1 input.sk-toggleable__control:checked~label.sk-toggleable__label-arrow:before {\n",
              "  content: \"▾\";\n",
              "}\n",
              "\n",
              "/* Pipeline/ColumnTransformer-specific style */\n",
              "\n",
              "#sk-container-id-1 div.sk-label input.sk-toggleable__control:checked~label.sk-toggleable__label {\n",
              "  color: var(--sklearn-color-text);\n",
              "  background-color: var(--sklearn-color-unfitted-level-2);\n",
              "}\n",
              "\n",
              "#sk-container-id-1 div.sk-label.fitted input.sk-toggleable__control:checked~label.sk-toggleable__label {\n",
              "  background-color: var(--sklearn-color-fitted-level-2);\n",
              "}\n",
              "\n",
              "/* Estimator-specific style */\n",
              "\n",
              "/* Colorize estimator box */\n",
              "#sk-container-id-1 div.sk-estimator input.sk-toggleable__control:checked~label.sk-toggleable__label {\n",
              "  /* unfitted */\n",
              "  background-color: var(--sklearn-color-unfitted-level-2);\n",
              "}\n",
              "\n",
              "#sk-container-id-1 div.sk-estimator.fitted input.sk-toggleable__control:checked~label.sk-toggleable__label {\n",
              "  /* fitted */\n",
              "  background-color: var(--sklearn-color-fitted-level-2);\n",
              "}\n",
              "\n",
              "#sk-container-id-1 div.sk-label label.sk-toggleable__label,\n",
              "#sk-container-id-1 div.sk-label label {\n",
              "  /* The background is the default theme color */\n",
              "  color: var(--sklearn-color-text-on-default-background);\n",
              "}\n",
              "\n",
              "/* On hover, darken the color of the background */\n",
              "#sk-container-id-1 div.sk-label:hover label.sk-toggleable__label {\n",
              "  color: var(--sklearn-color-text);\n",
              "  background-color: var(--sklearn-color-unfitted-level-2);\n",
              "}\n",
              "\n",
              "/* Label box, darken color on hover, fitted */\n",
              "#sk-container-id-1 div.sk-label.fitted:hover label.sk-toggleable__label.fitted {\n",
              "  color: var(--sklearn-color-text);\n",
              "  background-color: var(--sklearn-color-fitted-level-2);\n",
              "}\n",
              "\n",
              "/* Estimator label */\n",
              "\n",
              "#sk-container-id-1 div.sk-label label {\n",
              "  font-family: monospace;\n",
              "  font-weight: bold;\n",
              "  display: inline-block;\n",
              "  line-height: 1.2em;\n",
              "}\n",
              "\n",
              "#sk-container-id-1 div.sk-label-container {\n",
              "  text-align: center;\n",
              "}\n",
              "\n",
              "/* Estimator-specific */\n",
              "#sk-container-id-1 div.sk-estimator {\n",
              "  font-family: monospace;\n",
              "  border: 1px dotted var(--sklearn-color-border-box);\n",
              "  border-radius: 0.25em;\n",
              "  box-sizing: border-box;\n",
              "  margin-bottom: 0.5em;\n",
              "  /* unfitted */\n",
              "  background-color: var(--sklearn-color-unfitted-level-0);\n",
              "}\n",
              "\n",
              "#sk-container-id-1 div.sk-estimator.fitted {\n",
              "  /* fitted */\n",
              "  background-color: var(--sklearn-color-fitted-level-0);\n",
              "}\n",
              "\n",
              "/* on hover */\n",
              "#sk-container-id-1 div.sk-estimator:hover {\n",
              "  /* unfitted */\n",
              "  background-color: var(--sklearn-color-unfitted-level-2);\n",
              "}\n",
              "\n",
              "#sk-container-id-1 div.sk-estimator.fitted:hover {\n",
              "  /* fitted */\n",
              "  background-color: var(--sklearn-color-fitted-level-2);\n",
              "}\n",
              "\n",
              "/* Specification for estimator info (e.g. \"i\" and \"?\") */\n",
              "\n",
              "/* Common style for \"i\" and \"?\" */\n",
              "\n",
              ".sk-estimator-doc-link,\n",
              "a:link.sk-estimator-doc-link,\n",
              "a:visited.sk-estimator-doc-link {\n",
              "  float: right;\n",
              "  font-size: smaller;\n",
              "  line-height: 1em;\n",
              "  font-family: monospace;\n",
              "  background-color: var(--sklearn-color-background);\n",
              "  border-radius: 1em;\n",
              "  height: 1em;\n",
              "  width: 1em;\n",
              "  text-decoration: none !important;\n",
              "  margin-left: 0.5em;\n",
              "  text-align: center;\n",
              "  /* unfitted */\n",
              "  border: var(--sklearn-color-unfitted-level-1) 1pt solid;\n",
              "  color: var(--sklearn-color-unfitted-level-1);\n",
              "}\n",
              "\n",
              ".sk-estimator-doc-link.fitted,\n",
              "a:link.sk-estimator-doc-link.fitted,\n",
              "a:visited.sk-estimator-doc-link.fitted {\n",
              "  /* fitted */\n",
              "  border: var(--sklearn-color-fitted-level-1) 1pt solid;\n",
              "  color: var(--sklearn-color-fitted-level-1);\n",
              "}\n",
              "\n",
              "/* On hover */\n",
              "div.sk-estimator:hover .sk-estimator-doc-link:hover,\n",
              ".sk-estimator-doc-link:hover,\n",
              "div.sk-label-container:hover .sk-estimator-doc-link:hover,\n",
              ".sk-estimator-doc-link:hover {\n",
              "  /* unfitted */\n",
              "  background-color: var(--sklearn-color-unfitted-level-3);\n",
              "  color: var(--sklearn-color-background);\n",
              "  text-decoration: none;\n",
              "}\n",
              "\n",
              "div.sk-estimator.fitted:hover .sk-estimator-doc-link.fitted:hover,\n",
              ".sk-estimator-doc-link.fitted:hover,\n",
              "div.sk-label-container:hover .sk-estimator-doc-link.fitted:hover,\n",
              ".sk-estimator-doc-link.fitted:hover {\n",
              "  /* fitted */\n",
              "  background-color: var(--sklearn-color-fitted-level-3);\n",
              "  color: var(--sklearn-color-background);\n",
              "  text-decoration: none;\n",
              "}\n",
              "\n",
              "/* Span, style for the box shown on hovering the info icon */\n",
              ".sk-estimator-doc-link span {\n",
              "  display: none;\n",
              "  z-index: 9999;\n",
              "  position: relative;\n",
              "  font-weight: normal;\n",
              "  right: .2ex;\n",
              "  padding: .5ex;\n",
              "  margin: .5ex;\n",
              "  width: min-content;\n",
              "  min-width: 20ex;\n",
              "  max-width: 50ex;\n",
              "  color: var(--sklearn-color-text);\n",
              "  box-shadow: 2pt 2pt 4pt #999;\n",
              "  /* unfitted */\n",
              "  background: var(--sklearn-color-unfitted-level-0);\n",
              "  border: .5pt solid var(--sklearn-color-unfitted-level-3);\n",
              "}\n",
              "\n",
              ".sk-estimator-doc-link.fitted span {\n",
              "  /* fitted */\n",
              "  background: var(--sklearn-color-fitted-level-0);\n",
              "  border: var(--sklearn-color-fitted-level-3);\n",
              "}\n",
              "\n",
              ".sk-estimator-doc-link:hover span {\n",
              "  display: block;\n",
              "}\n",
              "\n",
              "/* \"?\"-specific style due to the `<a>` HTML tag */\n",
              "\n",
              "#sk-container-id-1 a.estimator_doc_link {\n",
              "  float: right;\n",
              "  font-size: 1rem;\n",
              "  line-height: 1em;\n",
              "  font-family: monospace;\n",
              "  background-color: var(--sklearn-color-background);\n",
              "  border-radius: 1rem;\n",
              "  height: 1rem;\n",
              "  width: 1rem;\n",
              "  text-decoration: none;\n",
              "  /* unfitted */\n",
              "  color: var(--sklearn-color-unfitted-level-1);\n",
              "  border: var(--sklearn-color-unfitted-level-1) 1pt solid;\n",
              "}\n",
              "\n",
              "#sk-container-id-1 a.estimator_doc_link.fitted {\n",
              "  /* fitted */\n",
              "  border: var(--sklearn-color-fitted-level-1) 1pt solid;\n",
              "  color: var(--sklearn-color-fitted-level-1);\n",
              "}\n",
              "\n",
              "/* On hover */\n",
              "#sk-container-id-1 a.estimator_doc_link:hover {\n",
              "  /* unfitted */\n",
              "  background-color: var(--sklearn-color-unfitted-level-3);\n",
              "  color: var(--sklearn-color-background);\n",
              "  text-decoration: none;\n",
              "}\n",
              "\n",
              "#sk-container-id-1 a.estimator_doc_link.fitted:hover {\n",
              "  /* fitted */\n",
              "  background-color: var(--sklearn-color-fitted-level-3);\n",
              "}\n",
              "</style><div id=\"sk-container-id-1\" class=\"sk-top-container\"><div class=\"sk-text-repr-fallback\"><pre>LogisticRegression(max_iter=2000)</pre><b>In a Jupyter environment, please rerun this cell to show the HTML representation or trust the notebook. <br />On GitHub, the HTML representation is unable to render, please try loading this page with nbviewer.org.</b></div><div class=\"sk-container\" hidden><div class=\"sk-item\"><div class=\"sk-estimator fitted sk-toggleable\"><input class=\"sk-toggleable__control sk-hidden--visually\" id=\"sk-estimator-id-1\" type=\"checkbox\" checked><label for=\"sk-estimator-id-1\" class=\"sk-toggleable__label fitted sk-toggleable__label-arrow\"><div><div>LogisticRegression</div></div><div><a class=\"sk-estimator-doc-link fitted\" rel=\"noreferrer\" target=\"_blank\" href=\"https://scikit-learn.org/1.6/modules/generated/sklearn.linear_model.LogisticRegression.html\">?<span>Documentation for LogisticRegression</span></a><span class=\"sk-estimator-doc-link fitted\">i<span>Fitted</span></span></div></label><div class=\"sk-toggleable__content fitted\"><pre>LogisticRegression(max_iter=2000)</pre></div> </div></div></div></div>"
            ]
          },
          "metadata": {},
          "execution_count": 8
        }
      ],
      "source": [
        "model.fit(X_train, y_train)"
      ]
    },
    {
      "cell_type": "markdown",
      "metadata": {
        "id": "rBA7efUWprUO"
      },
      "source": [
        "<h4 style='color:purple'>Measure accuracy of our model</h4>"
      ]
    },
    {
      "cell_type": "code",
      "execution_count": 9,
      "metadata": {
        "colab": {
          "base_uri": "https://localhost:8080/"
        },
        "id": "ef3jai4oprUO",
        "outputId": "cb06fc13-22e1-410d-c0c7-388071933494"
      },
      "outputs": [
        {
          "output_type": "execute_result",
          "data": {
            "text/plain": [
              "0.975"
            ]
          },
          "metadata": {},
          "execution_count": 9
        }
      ],
      "source": [
        "model.score(X_test, y_test)"
      ]
    },
    {
      "cell_type": "code",
      "execution_count": 10,
      "metadata": {
        "colab": {
          "base_uri": "https://localhost:8080/"
        },
        "id": "CGJw0wRLprUO",
        "outputId": "370a1594-3d9d-4e13-90df-99aaca3b5a06"
      },
      "outputs": [
        {
          "output_type": "execute_result",
          "data": {
            "text/plain": [
              "array([0, 1, 2, 3, 4])"
            ]
          },
          "metadata": {},
          "execution_count": 10
        }
      ],
      "source": [
        "model.predict(digits.data[0:5])"
      ]
    },
    {
      "cell_type": "markdown",
      "metadata": {
        "id": "0vsmQx7ZprUO"
      },
      "source": [
        "<h4 style='color:purple'>Confusion Matrix</h4>"
      ]
    },
    {
      "cell_type": "code",
      "execution_count": 11,
      "metadata": {
        "collapsed": true,
        "id": "U6KEgcCfprUP"
      },
      "outputs": [],
      "source": [
        "y_predicted = model.predict(X_test)"
      ]
    },
    {
      "cell_type": "code",
      "execution_count": 12,
      "metadata": {
        "colab": {
          "base_uri": "https://localhost:8080/"
        },
        "id": "JZnvzwtDprUP",
        "outputId": "4ad578e1-f7cc-4182-ff77-f543b7dd8289"
      },
      "outputs": [
        {
          "output_type": "execute_result",
          "data": {
            "text/plain": [
              "array([[47,  0,  0,  0,  0,  0,  0,  0,  0,  0],\n",
              "       [ 0, 42,  0,  0,  0,  0,  0,  0,  0,  0],\n",
              "       [ 0,  0, 30,  0,  0,  0,  0,  0,  0,  0],\n",
              "       [ 0,  0,  0, 39,  0,  0,  0,  0,  0,  0],\n",
              "       [ 0,  0,  0,  0, 38,  0,  0,  0,  0,  0],\n",
              "       [ 1,  0,  0,  0,  1, 35,  1,  0,  0,  0],\n",
              "       [ 0,  1,  0,  0,  0,  0, 39,  0,  0,  0],\n",
              "       [ 0,  0,  0,  0,  0,  0,  0, 27,  0,  0],\n",
              "       [ 1,  0,  0,  0,  0,  1,  0,  0, 32,  0],\n",
              "       [ 0,  0,  0,  1,  0,  0,  0,  0,  2, 22]])"
            ]
          },
          "metadata": {},
          "execution_count": 12
        }
      ],
      "source": [
        "from sklearn.metrics import confusion_matrix\n",
        "cm = confusion_matrix(y_test, y_predicted)\n",
        "cm"
      ]
    },
    {
      "cell_type": "code",
      "execution_count": 13,
      "metadata": {
        "colab": {
          "base_uri": "https://localhost:8080/",
          "height": 636
        },
        "id": "LKF0gw51prUP",
        "outputId": "f860253e-0d4b-4ba0-bd0c-b989c2b90cd1"
      },
      "outputs": [
        {
          "output_type": "execute_result",
          "data": {
            "text/plain": [
              "Text(95.72222222222221, 0.5, 'Truth')"
            ]
          },
          "metadata": {},
          "execution_count": 13
        },
        {
          "output_type": "display_data",
          "data": {
            "text/plain": [
              "<Figure size 1000x700 with 2 Axes>"
            ],
            "image/png": "[encoded data removed]"
          },
          "metadata": {}
        }
      ],
      "source": [
        "import seaborn as sn\n",
        "plt.figure(figsize = (10,7))\n",
        "sn.heatmap(cm, annot=True)\n",
        "plt.xlabel('Predicted')\n",
        "plt.ylabel('Truth')"
      ]
    },
    {
      "cell_type": "markdown",
      "metadata": {
        "id": "-PVzAv8mprUP"
      },
      "source": [
        "**Exercise**"
      ]
    },
    {
      "cell_type": "markdown",
      "metadata": {
        "id": "lZLXJgPZprUP"
      },
      "source": [
        "Use sklearn.datasets iris flower dataset to train your model using logistic regression. You need to figure out accuracy\n",
        "of your model and use that to predict different samples in your test dataset. In iris dataset there are 150 samples containing following features,\n",
        "\n",
        "1. Sepal Length\n",
        "2. Sepal Width\n",
        "3. Petal Length\n",
        "4. Petal Width\n",
        "\n",
        "Using above 4 features you will clasify a flower in one of the three categories,\n",
        "\n",
        "1. Setosa\n",
        "2. Versicolour\n",
        "3. Virginica"
      ]
    },
    {
      "cell_type": "markdown",
      "metadata": {
        "id": "6Dxbm_BZprUP"
      },
      "source": [
        "![sepal Length](https://encrypted-tbn0.gstatic.com/images?q=tbn:ANd9GcQgBvnC0DXPJbYdnZ66QoWSSOYskwFNOo7ZIg&s)"
      ]
    },
    {
      "cell_type": "markdown",
      "source": [
        "## Load library"
      ],
      "metadata": {
        "id": "noJK9sHRztm-"
      }
    },
    {
      "cell_type": "code",
      "source": [
        "from sklearn.datasets import load_iris\n",
        "from sklearn.linear_model import LogisticRegression\n",
        "from sklearn.model_selection import train_test_split\n",
        "from sklearn.metrics import accuracy_score\n",
        "import numpy as np"
      ],
      "metadata": {
        "id": "XlTcwW8ixqxh"
      },
      "execution_count": 14,
      "outputs": []
    },
    {
      "cell_type": "markdown",
      "source": [
        "## Load dataset"
      ],
      "metadata": {
        "id": "jV9Wy-_qzyJu"
      }
    },
    {
      "cell_type": "code",
      "source": [
        "iris = load_iris()"
      ],
      "metadata": {
        "id": "aip1XdM7x4SD"
      },
      "execution_count": 15,
      "outputs": []
    },
    {
      "cell_type": "markdown",
      "source": [
        "In iris dataset there are 150 samples containing following features,\n",
        "\n",
        "1. Sepal Length\n",
        "2. Sepal Width\n",
        "3. Petal Length\n",
        "4. Petal Width"
      ],
      "metadata": {
        "id": "RimUKzLZz8fw"
      }
    },
    {
      "cell_type": "code",
      "source": [
        "dir(iris)"
      ],
      "metadata": {
        "colab": {
          "base_uri": "https://localhost:8080/"
        },
        "id": "nNmGehcBx4J0",
        "outputId": "0f523e4a-a7a6-40fa-e0a2-da457989e52e"
      },
      "execution_count": 18,
      "outputs": [
        {
          "output_type": "execute_result",
          "data": {
            "text/plain": [
              "['DESCR',\n",
              " 'data',\n",
              " 'data_module',\n",
              " 'feature_names',\n",
              " 'filename',\n",
              " 'frame',\n",
              " 'target',\n",
              " 'target_names']"
            ]
          },
          "metadata": {},
          "execution_count": 18
        }
      ]
    },
    {
      "cell_type": "code",
      "source": [
        "iris.feature_names"
      ],
      "metadata": {
        "colab": {
          "base_uri": "https://localhost:8080/"
        },
        "id": "Xi_EoIVZydJe",
        "outputId": "e3988c92-7604-4eca-eb20-a5a7b045e44a"
      },
      "execution_count": 26,
      "outputs": [
        {
          "output_type": "execute_result",
          "data": {
            "text/plain": [
              "['sepal length (cm)',\n",
              " 'sepal width (cm)',\n",
              " 'petal length (cm)',\n",
              " 'petal width (cm)']"
            ]
          },
          "metadata": {},
          "execution_count": 26
        }
      ]
    },
    {
      "cell_type": "code",
      "source": [
        "X = iris.data\n",
        "X[0]"
      ],
      "metadata": {
        "colab": {
          "base_uri": "https://localhost:8080/"
        },
        "id": "vey-Bhc-yVGc",
        "outputId": "8413e790-28f6-4744-cf91-d7ebfd10ac6a"
      },
      "execution_count": 31,
      "outputs": [
        {
          "output_type": "execute_result",
          "data": {
            "text/plain": [
              "array([5.1, 3.5, 1.4, 0.2])"
            ]
          },
          "metadata": {},
          "execution_count": 31
        }
      ]
    },
    {
      "cell_type": "code",
      "source": [
        "Y = iris.target\n",
        "Y"
      ],
      "metadata": {
        "colab": {
          "base_uri": "https://localhost:8080/"
        },
        "id": "AwVqABgmypCD",
        "outputId": "fa5fc191-796d-4943-f0cb-0856e8fb400e"
      },
      "execution_count": 27,
      "outputs": [
        {
          "output_type": "execute_result",
          "data": {
            "text/plain": [
              "array([0, 0, 0, 0, 0, 0, 0, 0, 0, 0, 0, 0, 0, 0, 0, 0, 0, 0, 0, 0, 0, 0,\n",
              "       0, 0, 0, 0, 0, 0, 0, 0, 0, 0, 0, 0, 0, 0, 0, 0, 0, 0, 0, 0, 0, 0,\n",
              "       0, 0, 0, 0, 0, 0, 1, 1, 1, 1, 1, 1, 1, 1, 1, 1, 1, 1, 1, 1, 1, 1,\n",
              "       1, 1, 1, 1, 1, 1, 1, 1, 1, 1, 1, 1, 1, 1, 1, 1, 1, 1, 1, 1, 1, 1,\n",
              "       1, 1, 1, 1, 1, 1, 1, 1, 1, 1, 1, 1, 2, 2, 2, 2, 2, 2, 2, 2, 2, 2,\n",
              "       2, 2, 2, 2, 2, 2, 2, 2, 2, 2, 2, 2, 2, 2, 2, 2, 2, 2, 2, 2, 2, 2,\n",
              "       2, 2, 2, 2, 2, 2, 2, 2, 2, 2, 2, 2, 2, 2, 2, 2, 2, 2])"
            ]
          },
          "metadata": {},
          "execution_count": 27
        }
      ]
    },
    {
      "cell_type": "markdown",
      "source": [
        "## Model"
      ],
      "metadata": {
        "id": "lKyCeePu0G3y"
      }
    },
    {
      "cell_type": "code",
      "source": [
        "X_train, X_test, y_train, y_test = train_test_split(X, Y, test_size=0.3, random_state=42)"
      ],
      "metadata": {
        "id": "poDwiOVhyyiA"
      },
      "execution_count": 32,
      "outputs": []
    },
    {
      "cell_type": "code",
      "source": [
        "model = LogisticRegression(max_iter=2000)\n",
        "model.fit(X_train, y_train)"
      ],
      "metadata": {
        "colab": {
          "base_uri": "https://localhost:8080/",
          "height": 80
        },
        "id": "MbSybkOgzRli",
        "outputId": "dc286ba9-2418-4cf7-97f4-4df1e2ae79b5"
      },
      "execution_count": 34,
      "outputs": [
        {
          "output_type": "execute_result",
          "data": {
            "text/plain": [
              "LogisticRegression(max_iter=2000)"
            ],
            "text/html": [
              "<style>#sk-container-id-3 {\n",
              "  /* Definition of color scheme common for light and dark mode */\n",
              "  --sklearn-color-text: #000;\n",
              "  --sklearn-color-text-muted: #666;\n",
              "  --sklearn-color-line: gray;\n",
              "  /* Definition of color scheme for unfitted estimators */\n",
              "  --sklearn-color-unfitted-level-0: #fff5e6;\n",
              "  --sklearn-color-unfitted-level-1: #f6e4d2;\n",
              "  --sklearn-color-unfitted-level-2: #ffe0b3;\n",
              "  --sklearn-color-unfitted-level-3: chocolate;\n",
              "  /* Definition of color scheme for fitted estimators */\n",
              "  --sklearn-color-fitted-level-0: #f0f8ff;\n",
              "  --sklearn-color-fitted-level-1: #d4ebff;\n",
              "  --sklearn-color-fitted-level-2: #b3dbfd;\n",
              "  --sklearn-color-fitted-level-3: cornflowerblue;\n",
              "\n",
              "  /* Specific color for light theme */\n",
              "  --sklearn-color-text-on-default-background: var(--sg-text-color, var(--theme-code-foreground, var(--jp-content-font-color1, black)));\n",
              "  --sklearn-color-background: var(--sg-background-color, var(--theme-background, var(--jp-layout-color0, white)));\n",
              "  --sklearn-color-border-box: var(--sg-text-color, var(--theme-code-foreground, var(--jp-content-font-color1, black)));\n",
              "  --sklearn-color-icon: #696969;\n",
              "\n",
              "  @media (prefers-color-scheme: dark) {\n",
              "    /* Redefinition of color scheme for dark theme */\n",
              "    --sklearn-color-text-on-default-background: var(--sg-text-color, var(--theme-code-foreground, var(--jp-content-font-color1, white)));\n",
              "    --sklearn-color-background: var(--sg-background-color, var(--theme-background, var(--jp-layout-color0, #111)));\n",
              "    --sklearn-color-border-box: var(--sg-text-color, var(--theme-code-foreground, var(--jp-content-font-color1, white)));\n",
              "    --sklearn-color-icon: #878787;\n",
              "  }\n",
              "}\n",
              "\n",
              "#sk-container-id-3 {\n",
              "  color: var(--sklearn-color-text);\n",
              "}\n",
              "\n",
              "#sk-container-id-3 pre {\n",
              "  padding: 0;\n",
              "}\n",
              "\n",
              "#sk-container-id-3 input.sk-hidden--visually {\n",
              "  border: 0;\n",
              "  clip: rect(1px 1px 1px 1px);\n",
              "  clip: rect(1px, 1px, 1px, 1px);\n",
              "  height: 1px;\n",
              "  margin: -1px;\n",
              "  overflow: hidden;\n",
              "  padding: 0;\n",
              "  position: absolute;\n",
              "  width: 1px;\n",
              "}\n",
              "\n",
              "#sk-container-id-3 div.sk-dashed-wrapped {\n",
              "  border: 1px dashed var(--sklearn-color-line);\n",
              "  margin: 0 0.4em 0.5em 0.4em;\n",
              "  box-sizing: border-box;\n",
              "  padding-bottom: 0.4em;\n",
              "  background-color: var(--sklearn-color-background);\n",
              "}\n",
              "\n",
              "#sk-container-id-3 div.sk-container {\n",
              "  /* jupyter's `normalize.less` sets `[hidden] { display: none; }`\n",
              "     but bootstrap.min.css set `[hidden] { display: none !important; }`\n",
              "     so we also need the `!important` here to be able to override the\n",
              "     default hidden behavior on the sphinx rendered scikit-learn.org.\n",
              "     See: https://github.com/scikit-learn/scikit-learn/issues/21755 */\n",
              "  display: inline-block !important;\n",
              "  position: relative;\n",
              "}\n",
              "\n",
              "#sk-container-id-3 div.sk-text-repr-fallback {\n",
              "  display: none;\n",
              "}\n",
              "\n",
              "div.sk-parallel-item,\n",
              "div.sk-serial,\n",
              "div.sk-item {\n",
              "  /* draw centered vertical line to link estimators */\n",
              "  background-image: linear-gradient(var(--sklearn-color-text-on-default-background), var(--sklearn-color-text-on-default-background));\n",
              "  background-size: 2px 100%;\n",
              "  background-repeat: no-repeat;\n",
              "  background-position: center center;\n",
              "}\n",
              "\n",
              "/* Parallel-specific style estimator block */\n",
              "\n",
              "#sk-container-id-3 div.sk-parallel-item::after {\n",
              "  content: \"\";\n",
              "  width: 100%;\n",
              "  border-bottom: 2px solid var(--sklearn-color-text-on-default-background);\n",
              "  flex-grow: 1;\n",
              "}\n",
              "\n",
              "#sk-container-id-3 div.sk-parallel {\n",
              "  display: flex;\n",
              "  align-items: stretch;\n",
              "  justify-content: center;\n",
              "  background-color: var(--sklearn-color-background);\n",
              "  position: relative;\n",
              "}\n",
              "\n",
              "#sk-container-id-3 div.sk-parallel-item {\n",
              "  display: flex;\n",
              "  flex-direction: column;\n",
              "}\n",
              "\n",
              "#sk-container-id-3 div.sk-parallel-item:first-child::after {\n",
              "  align-self: flex-end;\n",
              "  width: 50%;\n",
              "}\n",
              "\n",
              "#sk-container-id-3 div.sk-parallel-item:last-child::after {\n",
              "  align-self: flex-start;\n",
              "  width: 50%;\n",
              "}\n",
              "\n",
              "#sk-container-id-3 div.sk-parallel-item:only-child::after {\n",
              "  width: 0;\n",
              "}\n",
              "\n",
              "/* Serial-specific style estimator block */\n",
              "\n",
              "#sk-container-id-3 div.sk-serial {\n",
              "  display: flex;\n",
              "  flex-direction: column;\n",
              "  align-items: center;\n",
              "  background-color: var(--sklearn-color-background);\n",
              "  padding-right: 1em;\n",
              "  padding-left: 1em;\n",
              "}\n",
              "\n",
              "\n",
              "/* Toggleable style: style used for estimator/Pipeline/ColumnTransformer box that is\n",
              "clickable and can be expanded/collapsed.\n",
              "- Pipeline and ColumnTransformer use this feature and define the default style\n",
              "- Estimators will overwrite some part of the style using the `sk-estimator` class\n",
              "*/\n",
              "\n",
              "/* Pipeline and ColumnTransformer style (default) */\n",
              "\n",
              "#sk-container-id-3 div.sk-toggleable {\n",
              "  /* Default theme specific background. It is overwritten whether we have a\n",
              "  specific estimator or a Pipeline/ColumnTransformer */\n",
              "  background-color: var(--sklearn-color-background);\n",
              "}\n",
              "\n",
              "/* Toggleable label */\n",
              "#sk-container-id-3 label.sk-toggleable__label {\n",
              "  cursor: pointer;\n",
              "  display: flex;\n",
              "  width: 100%;\n",
              "  margin-bottom: 0;\n",
              "  padding: 0.5em;\n",
              "  box-sizing: border-box;\n",
              "  text-align: center;\n",
              "  align-items: start;\n",
              "  justify-content: space-between;\n",
              "  gap: 0.5em;\n",
              "}\n",
              "\n",
              "#sk-container-id-3 label.sk-toggleable__label .caption {\n",
              "  font-size: 0.6rem;\n",
              "  font-weight: lighter;\n",
              "  color: var(--sklearn-color-text-muted);\n",
              "}\n",
              "\n",
              "#sk-container-id-3 label.sk-toggleable__label-arrow:before {\n",
              "  /* Arrow on the left of the label */\n",
              "  content: \"▸\";\n",
              "  float: left;\n",
              "  margin-right: 0.25em;\n",
              "  color: var(--sklearn-color-icon);\n",
              "}\n",
              "\n",
              "#sk-container-id-3 label.sk-toggleable__label-arrow:hover:before {\n",
              "  color: var(--sklearn-color-text);\n",
              "}\n",
              "\n",
              "/* Toggleable content - dropdown */\n",
              "\n",
              "#sk-container-id-3 div.sk-toggleable__content {\n",
              "  max-height: 0;\n",
              "  max-width: 0;\n",
              "  overflow: hidden;\n",
              "  text-align: left;\n",
              "  /* unfitted */\n",
              "  background-color: var(--sklearn-color-unfitted-level-0);\n",
              "}\n",
              "\n",
              "#sk-container-id-3 div.sk-toggleable__content.fitted {\n",
              "  /* fitted */\n",
              "  background-color: var(--sklearn-color-fitted-level-0);\n",
              "}\n",
              "\n",
              "#sk-container-id-3 div.sk-toggleable__content pre {\n",
              "  margin: 0.2em;\n",
              "  border-radius: 0.25em;\n",
              "  color: var(--sklearn-color-text);\n",
              "  /* unfitted */\n",
              "  background-color: var(--sklearn-color-unfitted-level-0);\n",
              "}\n",
              "\n",
              "#sk-container-id-3 div.sk-toggleable__content.fitted pre {\n",
              "  /* unfitted */\n",
              "  background-color: var(--sklearn-color-fitted-level-0);\n",
              "}\n",
              "\n",
              "#sk-container-id-3 input.sk-toggleable__control:checked~div.sk-toggleable__content {\n",
              "  /* Expand drop-down */\n",
              "  max-height: 200px;\n",
              "  max-width: 100%;\n",
              "  overflow: auto;\n",
              "}\n",
              "\n",
              "#sk-container-id-3 input.sk-toggleable__control:checked~label.sk-toggleable__label-arrow:before {\n",
              "  content: \"▾\";\n",
              "}\n",
              "\n",
              "/* Pipeline/ColumnTransformer-specific style */\n",
              "\n",
              "#sk-container-id-3 div.sk-label input.sk-toggleable__control:checked~label.sk-toggleable__label {\n",
              "  color: var(--sklearn-color-text);\n",
              "  background-color: var(--sklearn-color-unfitted-level-2);\n",
              "}\n",
              "\n",
              "#sk-container-id-3 div.sk-label.fitted input.sk-toggleable__control:checked~label.sk-toggleable__label {\n",
              "  background-color: var(--sklearn-color-fitted-level-2);\n",
              "}\n",
              "\n",
              "/* Estimator-specific style */\n",
              "\n",
              "/* Colorize estimator box */\n",
              "#sk-container-id-3 div.sk-estimator input.sk-toggleable__control:checked~label.sk-toggleable__label {\n",
              "  /* unfitted */\n",
              "  background-color: var(--sklearn-color-unfitted-level-2);\n",
              "}\n",
              "\n",
              "#sk-container-id-3 div.sk-estimator.fitted input.sk-toggleable__control:checked~label.sk-toggleable__label {\n",
              "  /* fitted */\n",
              "  background-color: var(--sklearn-color-fitted-level-2);\n",
              "}\n",
              "\n",
              "#sk-container-id-3 div.sk-label label.sk-toggleable__label,\n",
              "#sk-container-id-3 div.sk-label label {\n",
              "  /* The background is the default theme color */\n",
              "  color: var(--sklearn-color-text-on-default-background);\n",
              "}\n",
              "\n",
              "/* On hover, darken the color of the background */\n",
              "#sk-container-id-3 div.sk-label:hover label.sk-toggleable__label {\n",
              "  color: var(--sklearn-color-text);\n",
              "  background-color: var(--sklearn-color-unfitted-level-2);\n",
              "}\n",
              "\n",
              "/* Label box, darken color on hover, fitted */\n",
              "#sk-container-id-3 div.sk-label.fitted:hover label.sk-toggleable__label.fitted {\n",
              "  color: var(--sklearn-color-text);\n",
              "  background-color: var(--sklearn-color-fitted-level-2);\n",
              "}\n",
              "\n",
              "/* Estimator label */\n",
              "\n",
              "#sk-container-id-3 div.sk-label label {\n",
              "  font-family: monospace;\n",
              "  font-weight: bold;\n",
              "  display: inline-block;\n",
              "  line-height: 1.2em;\n",
              "}\n",
              "\n",
              "#sk-container-id-3 div.sk-label-container {\n",
              "  text-align: center;\n",
              "}\n",
              "\n",
              "/* Estimator-specific */\n",
              "#sk-container-id-3 div.sk-estimator {\n",
              "  font-family: monospace;\n",
              "  border: 1px dotted var(--sklearn-color-border-box);\n",
              "  border-radius: 0.25em;\n",
              "  box-sizing: border-box;\n",
              "  margin-bottom: 0.5em;\n",
              "  /* unfitted */\n",
              "  background-color: var(--sklearn-color-unfitted-level-0);\n",
              "}\n",
              "\n",
              "#sk-container-id-3 div.sk-estimator.fitted {\n",
              "  /* fitted */\n",
              "  background-color: var(--sklearn-color-fitted-level-0);\n",
              "}\n",
              "\n",
              "/* on hover */\n",
              "#sk-container-id-3 div.sk-estimator:hover {\n",
              "  /* unfitted */\n",
              "  background-color: var(--sklearn-color-unfitted-level-2);\n",
              "}\n",
              "\n",
              "#sk-container-id-3 div.sk-estimator.fitted:hover {\n",
              "  /* fitted */\n",
              "  background-color: var(--sklearn-color-fitted-level-2);\n",
              "}\n",
              "\n",
              "/* Specification for estimator info (e.g. \"i\" and \"?\") */\n",
              "\n",
              "/* Common style for \"i\" and \"?\" */\n",
              "\n",
              ".sk-estimator-doc-link,\n",
              "a:link.sk-estimator-doc-link,\n",
              "a:visited.sk-estimator-doc-link {\n",
              "  float: right;\n",
              "  font-size: smaller;\n",
              "  line-height: 1em;\n",
              "  font-family: monospace;\n",
              "  background-color: var(--sklearn-color-background);\n",
              "  border-radius: 1em;\n",
              "  height: 1em;\n",
              "  width: 1em;\n",
              "  text-decoration: none !important;\n",
              "  margin-left: 0.5em;\n",
              "  text-align: center;\n",
              "  /* unfitted */\n",
              "  border: var(--sklearn-color-unfitted-level-1) 1pt solid;\n",
              "  color: var(--sklearn-color-unfitted-level-1);\n",
              "}\n",
              "\n",
              ".sk-estimator-doc-link.fitted,\n",
              "a:link.sk-estimator-doc-link.fitted,\n",
              "a:visited.sk-estimator-doc-link.fitted {\n",
              "  /* fitted */\n",
              "  border: var(--sklearn-color-fitted-level-1) 1pt solid;\n",
              "  color: var(--sklearn-color-fitted-level-1);\n",
              "}\n",
              "\n",
              "/* On hover */\n",
              "div.sk-estimator:hover .sk-estimator-doc-link:hover,\n",
              ".sk-estimator-doc-link:hover,\n",
              "div.sk-label-container:hover .sk-estimator-doc-link:hover,\n",
              ".sk-estimator-doc-link:hover {\n",
              "  /* unfitted */\n",
              "  background-color: var(--sklearn-color-unfitted-level-3);\n",
              "  color: var(--sklearn-color-background);\n",
              "  text-decoration: none;\n",
              "}\n",
              "\n",
              "div.sk-estimator.fitted:hover .sk-estimator-doc-link.fitted:hover,\n",
              ".sk-estimator-doc-link.fitted:hover,\n",
              "div.sk-label-container:hover .sk-estimator-doc-link.fitted:hover,\n",
              ".sk-estimator-doc-link.fitted:hover {\n",
              "  /* fitted */\n",
              "  background-color: var(--sklearn-color-fitted-level-3);\n",
              "  color: var(--sklearn-color-background);\n",
              "  text-decoration: none;\n",
              "}\n",
              "\n",
              "/* Span, style for the box shown on hovering the info icon */\n",
              ".sk-estimator-doc-link span {\n",
              "  display: none;\n",
              "  z-index: 9999;\n",
              "  position: relative;\n",
              "  font-weight: normal;\n",
              "  right: .2ex;\n",
              "  padding: .5ex;\n",
              "  margin: .5ex;\n",
              "  width: min-content;\n",
              "  min-width: 20ex;\n",
              "  max-width: 50ex;\n",
              "  color: var(--sklearn-color-text);\n",
              "  box-shadow: 2pt 2pt 4pt #999;\n",
              "  /* unfitted */\n",
              "  background: var(--sklearn-color-unfitted-level-0);\n",
              "  border: .5pt solid var(--sklearn-color-unfitted-level-3);\n",
              "}\n",
              "\n",
              ".sk-estimator-doc-link.fitted span {\n",
              "  /* fitted */\n",
              "  background: var(--sklearn-color-fitted-level-0);\n",
              "  border: var(--sklearn-color-fitted-level-3);\n",
              "}\n",
              "\n",
              ".sk-estimator-doc-link:hover span {\n",
              "  display: block;\n",
              "}\n",
              "\n",
              "/* \"?\"-specific style due to the `<a>` HTML tag */\n",
              "\n",
              "#sk-container-id-3 a.estimator_doc_link {\n",
              "  float: right;\n",
              "  font-size: 1rem;\n",
              "  line-height: 1em;\n",
              "  font-family: monospace;\n",
              "  background-color: var(--sklearn-color-background);\n",
              "  border-radius: 1rem;\n",
              "  height: 1rem;\n",
              "  width: 1rem;\n",
              "  text-decoration: none;\n",
              "  /* unfitted */\n",
              "  color: var(--sklearn-color-unfitted-level-1);\n",
              "  border: var(--sklearn-color-unfitted-level-1) 1pt solid;\n",
              "}\n",
              "\n",
              "#sk-container-id-3 a.estimator_doc_link.fitted {\n",
              "  /* fitted */\n",
              "  border: var(--sklearn-color-fitted-level-1) 1pt solid;\n",
              "  color: var(--sklearn-color-fitted-level-1);\n",
              "}\n",
              "\n",
              "/* On hover */\n",
              "#sk-container-id-3 a.estimator_doc_link:hover {\n",
              "  /* unfitted */\n",
              "  background-color: var(--sklearn-color-unfitted-level-3);\n",
              "  color: var(--sklearn-color-background);\n",
              "  text-decoration: none;\n",
              "}\n",
              "\n",
              "#sk-container-id-3 a.estimator_doc_link.fitted:hover {\n",
              "  /* fitted */\n",
              "  background-color: var(--sklearn-color-fitted-level-3);\n",
              "}\n",
              "</style><div id=\"sk-container-id-3\" class=\"sk-top-container\"><div class=\"sk-text-repr-fallback\"><pre>LogisticRegression(max_iter=2000)</pre><b>In a Jupyter environment, please rerun this cell to show the HTML representation or trust the notebook. <br />On GitHub, the HTML representation is unable to render, please try loading this page with nbviewer.org.</b></div><div class=\"sk-container\" hidden><div class=\"sk-item\"><div class=\"sk-estimator fitted sk-toggleable\"><input class=\"sk-toggleable__control sk-hidden--visually\" id=\"sk-estimator-id-3\" type=\"checkbox\" checked><label for=\"sk-estimator-id-3\" class=\"sk-toggleable__label fitted sk-toggleable__label-arrow\"><div><div>LogisticRegression</div></div><div><a class=\"sk-estimator-doc-link fitted\" rel=\"noreferrer\" target=\"_blank\" href=\"https://scikit-learn.org/1.6/modules/generated/sklearn.linear_model.LogisticRegression.html\">?<span>Documentation for LogisticRegression</span></a><span class=\"sk-estimator-doc-link fitted\">i<span>Fitted</span></span></div></label><div class=\"sk-toggleable__content fitted\"><pre>LogisticRegression(max_iter=2000)</pre></div> </div></div></div></div>"
            ]
          },
          "metadata": {},
          "execution_count": 34
        }
      ]
    },
    {
      "cell_type": "markdown",
      "source": [
        "### Prediction"
      ],
      "metadata": {
        "id": "ZoNjreck0RDp"
      }
    },
    {
      "cell_type": "code",
      "source": [
        "y_pred = model.predict(X_test)\n",
        "accuracy = accuracy_score(y_test, y_pred)\n",
        "print(f\"Model Accuracy: {accuracy:.2f}\")"
      ],
      "metadata": {
        "colab": {
          "base_uri": "https://localhost:8080/"
        },
        "id": "GvpWzQZyzRh7",
        "outputId": "5a611ea4-f3e7-4848-c0c8-ca67360e1d6a"
      },
      "execution_count": 35,
      "outputs": [
        {
          "output_type": "stream",
          "name": "stdout",
          "text": [
            "Model Accuracy: 1.00\n"
          ]
        }
      ]
    },
    {
      "cell_type": "code",
      "source": [
        "print(\"Sample Predictions on Test Data:\")\n",
        "for i in range(5):  # Show 5 test samples\n",
        "    sample = X_test[i].reshape(1, -1)\n",
        "    predicted_class = model.predict(sample)[0]\n",
        "    predicted_name = iris.target_names[predicted_class]\n",
        "    actual_name = iris.target_names[y_test[i]]\n",
        "    print(f\"Sample {i+1}: Predicted = {predicted_name}, Actual = {actual_name}\")"
      ],
      "metadata": {
        "colab": {
          "base_uri": "https://localhost:8080/"
        },
        "id": "J__c9NEzzdTY",
        "outputId": "1c704029-7015-4f76-f7f7-b003d2f2e168"
      },
      "execution_count": 37,
      "outputs": [
        {
          "output_type": "stream",
          "name": "stdout",
          "text": [
            "Sample Predictions on Test Data:\n",
            "Sample 1: Predicted = versicolor, Actual = versicolor\n",
            "Sample 2: Predicted = setosa, Actual = setosa\n",
            "Sample 3: Predicted = virginica, Actual = virginica\n",
            "Sample 4: Predicted = versicolor, Actual = versicolor\n",
            "Sample 5: Predicted = versicolor, Actual = versicolor\n"
          ]
        }
      ]
    }
  ],
  "metadata": {
    "kernelspec": {
      "display_name": "Python 3",
      "language": "python",
      "name": "python3"
    },
    "language_info": {
      "codemirror_mode": {
        "name": "ipython",
        "version": 3
      },
      "file_extension": ".py",
      "mimetype": "text/x-python",
      "name": "python",
      "nbconvert_exporter": "python",
      "pygments_lexer": "ipython3",
      "version": "3.6.3"
    },
    "colab": {
      "provenance": [],
      "include_colab_link": true
    }
  },
  "nbformat": 4,
  "nbformat_minor": 0
}